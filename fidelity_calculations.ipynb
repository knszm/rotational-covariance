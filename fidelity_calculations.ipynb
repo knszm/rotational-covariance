{
 "cells": [
  {
   "cell_type": "markdown",
   "metadata": {},
   "source": [
    "## SDP examples for *Rotational covariance restricts available quantum state*\n",
    "Fynn Otto, Konrad Szymański"
   ]
  },
  {
   "cell_type": "markdown",
   "metadata": {},
   "source": [
    "This file contains the calculations behind the Examples 3 and 4 of our paper, demonstrating the use of semidefinite optimization for determination of maximal fidelity achievable with rotationally (SU(2)) covariant transformations. First, let us import the libraries used in the code (numpy for array manipulations, mosek and picos for semidefinite optimization and scipy function for Wigner 3J symbols)."
   ]
  },
  {
   "cell_type": "code",
   "execution_count": 8,
   "metadata": {},
   "outputs": [],
   "source": [
    "import numpy as np\n",
    "import mosek\n",
    "import picos as pc\n",
    "from sympy.physics.wigner import wigner_3j\n",
    "ATOL = 1E-8\n",
    "# IMPORANT: If MOSEK license is not automatically found, uncomment and update the following line.\n",
    "#%env MOSEKLM_LICENSE_FILE=/path/to/mosek/mosek.lic"
   ]
  },
  {
   "cell_type": "markdown",
   "metadata": {},
   "source": [
    "Now, the main functions. Some, like **kb**, **pos** and **rhoij** are helper ones, used to determine the indices of vectors and density operators from quantum numbers. The function **K** defines the effect of a single Kraus operator on an input density operator, parameterized by weights stored in its argument **Hmat**, **channel** returns a complete result summed over Kraus operators. Then, **getSDP** builds an instance of semidefinite optimization based on input and target states -- the goal is to find an SU(2)-covariant channel (parameterized with SU(2)-covariant Kraus operators) maximizing the fidelity between transformed input state and the target."
   ]
  },
  {
   "cell_type": "code",
   "execution_count": 39,
   "metadata": {},
   "outputs": [],
   "source": [
    "def kb(a,jlim):\n",
    "    \"\"\"Creates a ket-bra operator |`a[1]`/2><`a[2]`/2| on a system with max. spin `jlim` \"\"\"\n",
    "    \n",
    "    kb = np.zeros((int(jlim**2/2 + 3/2*jlim + 1), int(jlim**2/2 + 3/2*jlim + 1)))\n",
    "    kb[a] += 1\n",
    "    \n",
    "    return kb\n",
    "\n",
    "def pos(jp,j,J):\n",
    "    \"\"\"Maps a tuple of spin numbers `jp` and `j` to an integer given the parameter `J` related to a Kraus operator \"\"\"\n",
    "    \n",
    "    x = 0\n",
    "    if jp<=J:\n",
    "        x = jp**2/2+jp/2+(j+jp-J)/2\n",
    "    else:\n",
    "        x = (J+1)*(J+2)/2+(jp-J-1)*(J+1)+(j+J-jp)/2\n",
    "    \n",
    "    return int(x)\n",
    "\n",
    "def rhoij(j,mj,k,mk):\n",
    "    \"\"\"Returns the index of the density matrix element |`j`/2,`mj`/2><`k`/2,`mk`/2|\"\"\"\n",
    "    \n",
    "    if (j-mj)%2 == 1 or (k-mk)%2 == 1:\n",
    "        raise ValueError(\"No valid arguments given. They do not match spin states.\")\n",
    "    \n",
    "    return (int(j**2/2+j/2+(j-mj)/2),int(k**2/2+k/2+(k-mk)/2))\n",
    "\n",
    "def vecstate(j,mj,jlim):\n",
    "    idx=int(j**2/2+j/2+(j-mj)/2)\n",
    "    ret=np.zeros(int(jlim**2/2 + 3/2*jlim + 1))\n",
    "    ret[idx]=1\n",
    "    return ret\n",
    "\n",
    "def projector(ket):\n",
    "    return np.outer(ket,ket.conjugate())\n",
    "\n",
    "def matprint(mat, fmt=\"g\"): #from https://gist.github.com/braingineer/d801735dac07ff3ac4d746e1f218ab75\n",
    "    col_maxes = [max([len((\"{:\"+fmt+\"}\").format(x)) for x in col]) for col in mat.T]\n",
    "    for x in mat:\n",
    "        for i, y in enumerate(x):\n",
    "            print((\"{:\"+str(col_maxes[i])+fmt+\"}\").format(y), end=\"  \")\n",
    "        print(\"\")\n",
    "\n",
    "def K(J, M, jlim, Hmat, rho):#=np.eye(6)):\n",
    "    \"\"\"Returns the product K_{`J`,`M`} rho K_{`J`,`M`}^\\dagger depending on the parameters defined in `Hmat`\"\"\"\n",
    "    \n",
    "    sig = np.zeros_like(rho)\n",
    "    for jp in range(jlim+1):\n",
    "        for m in range(-jp,jp+2,2):\n",
    "            for j in range(abs(J-jp),min(J+jp,jlim)+1,2):\n",
    "                for kp in range(jlim+1):\n",
    "                    for l in range(-kp,kp+2,2):\n",
    "                        for k in range(abs(J-kp),min(J+kp,jlim)+1,2):\n",
    "                            if abs(m-M)<=j and abs(l-M)<=k:\n",
    "                                x=(-1)**((jp+kp-m-l)/2)*float(wigner_3j(jp/2,J/2,j/2,-m/2,M/2,(m-M)/2))*float(wigner_3j(kp/2,J/2,k/2,-l/2,M/2,(l-M)/2))*rho[rhoij(j,m-M,k,l-M)]*kb(rhoij(jp,m,kp,l),jlim)*Hmat[pos(jp,j,J),pos(kp,k,J)]\n",
    "                                sig = sig + x\n",
    "    \n",
    "    return sig\n",
    "\n",
    "def channel(jmax, jlim, Hmat, rho):\n",
    "    \"\"\"Returns the output of the channel characterized by `Hmat` given the input `rho`\"\"\"\n",
    "\n",
    "    state = np.zeros_like(rho)\n",
    "    for j in range(jmax+1):\n",
    "        for m in range(-j,j+2,2):\n",
    "            state = state + K(j,m,jlim,Hmat[j],rho)\n",
    "    return state\n",
    "\n",
    "def paramLabels(Jmax,jlim):\n",
    "    \n",
    "    positions=[]\n",
    "    for h in range(0,Jmax+1):\n",
    "        posh=[]\n",
    "        for jp in range(jlim+1):\n",
    "            for j in range(abs(h-jp),min(h+jp,jlim)+1,2):\n",
    "                posh.append([pos(jp,j,h),jp,j])\n",
    "        #print(posh)\n",
    "        positions.append(posh)\n",
    "    \n",
    "    return positions\n",
    "\n",
    "def getSDP(rho, target, jlim):\n",
    "    \n",
    "    rho = np.array(rho)\n",
    "    target = np.array(target)\n",
    "\n",
    "    # Make sure that both rho and target are valid quantum states\n",
    "    assert(rho.shape==target.shape), \"Please use two states on the same Hilbert space\"\n",
    "    assert(np.isclose(np.trace(rho),1,ATOL) and np.array_equal(rho,rho.conjugate().T) and np.all(np.linalg.eigvals(rho)>=-ATOL)), \"The first input is not a quantum state.\"\n",
    "    assert(np.isclose(np.trace(target),1,ATOL) and np.array_equal(target,target.conjugate().T) and np.all(np.linalg.eigvals(target)>=-ATOL)), \"The second input is not a quantum state.\"\n",
    "\n",
    "    a = paramLabels(2*jlim,jlim)\n",
    "    \n",
    "    SDP = pc.Problem()\n",
    "\n",
    "    X = pc.ComplexVariable(\"X\",rho.shape)\n",
    "\n",
    "    # Set up parameter matrices with the constraint of being positive semidefinite\n",
    "    Ha = []\n",
    "    for j,b in enumerate(a):\n",
    "        Ha.append(pc.HermitianVariable(f'H_{j}', int(np.amax(np.transpose(b)[0])+1)))#len(b))))\n",
    "    SDP.add_list_of_constraints([h >> 0 for h in Ha])\n",
    "\n",
    "    # Add the normalization constraint for the channel to be trace-preserving\n",
    "    constraints = [[np.diag([x in np.transpose(a[i])[0] and a[i][np.where(np.transpose(a[i])[0]==x)[0][0]][2]==j for x in range(int(np.amax(np.transpose(a[i])[0])+1))]) for i in range(len(a))] for j in range(jlim+1)]\n",
    "    SDP.add_list_of_constraints([sum([Ha[i][k,k] for i in range(len(Ha)) for k in range(int(np.sqrt(len(Ha[i])))) if const[i][k][k]])==j+1 for j,const in enumerate(constraints)])\n",
    "\n",
    "    # Constraint for the fidelity SDP\n",
    "    SDP.add_constraint(pc.block([[target, X],[X.H, channel(2*jlim, jlim, Ha, rho)]]) >> 0)\n",
    "\n",
    "    # Define objective function to maximize\n",
    "    SDP.set_objective(\"max\", 1/2*pc.trace(X+X.H))\n",
    "\n",
    "    return(SDP)\n"
   ]
  },
  {
   "cell_type": "markdown",
   "metadata": {},
   "source": [
    "In order to make programming more straightforward, most of the functions take as their inputs double the total spin $2j$ and magnetic spin quantum number $2m$ instead of $j$ and $m$. For instance, the state $\\ket{j=\\frac32,m=\\frac32}$ corresponds in code to **vecstate(j=3,mj=3,jlim)**. \n",
    "\n",
    "Thus, the following code recreates the Example 4: the **inputState** variable is density matrix representation of $\\ket{j=\\frac32,m=\\frac32}$, and **outputState** corresponds to $\\ket{j=2,m=2}$. Evidently, the optimal state is a probabilistic mixture of $\\ket{j=2,m=2}$ with weight $\\frac45$ and $\\ket{j=2,m=1}$ with weight $\\frac15$."
   ]
  },
  {
   "cell_type": "code",
   "execution_count": 42,
   "metadata": {},
   "outputs": [
    {
     "name": "stdout",
     "output_type": "stream",
     "text": [
      "maximal output fidelity: 0.8944816581290255\n",
      "optimal output state maximizing fidelity with the target:\n",
      " 0  0  0   0  -0   0  0  0  0  0    0    0  -0   0  0  \n",
      " 0  0  0   0   0   0  0  0  0  0    0    0   0   0  0  \n",
      " 0  0  0   0   0   0  0  0  0  0    0    0   0   0  0  \n",
      " 0  0  0   0   0   0  0  0  0  0    0   -0   0   0  0  \n",
      "-0  0  0   0   0   0  0  0  0  0    0    0  -0   0  0  \n",
      " 0  0  0   0   0   0  0  0  0  0    0    0   0  -0  0  \n",
      " 0  0  0   0   0   0  0  0  0  0    0    0   0   0  0  \n",
      " 0  0  0   0   0   0  0  0  0  0    0    0   0   0  0  \n",
      " 0  0  0   0   0   0  0  0  0  0    0    0   0   0  0  \n",
      " 0  0  0   0   0   0  0  0  0  0    0    0   0   0  0  \n",
      " 0  0  0   0   0   0  0  0  0  0  0.8    0   0   0  0  \n",
      " 0  0  0  -0   0   0  0  0  0  0    0  0.2   0   0  0  \n",
      "-0  0  0   0  -0   0  0  0  0  0    0    0   0   0  0  \n",
      " 0  0  0   0   0  -0  0  0  0  0    0    0   0   0  0  \n",
      " 0  0  0   0   0   0  0  0  0  0    0    0   0   0  0  \n"
     ]
    }
   ],
   "source": [
    "# Define upper limit for the representation of SU(2)\n",
    "jlim = 4\n",
    "\n",
    "# Define input and target state\n",
    "inputState = projector(vecstate(3,3,jlim))#kb(rhoij(3,3,3,3),jlim)#1/2*(kb(rhoij(0,0,0,0),2)+kb(rhoij(2,0,2,0),2)+kb(rhoij(0,0,2,0),2)+kb(rhoij(2,0,0,0),2))\n",
    "targetState = projector(vecstate(4,4,jlim))#kb(rhoij(4,4,4,4),jlim)\n",
    "\n",
    "# SDP to determine the maximal fidelity\n",
    "SDP = getSDP(inputState,targetState,jlim)\n",
    "SDP.solve(solver=\"mosek\", verbosity=0)\n",
    "\n",
    "# Print the parameter matrices for the channel to achieve the maximum fidelity, the fidelity, and the channels output\n",
    "xfinal = SDP.get_variable(\"X\").value\n",
    "fid = np.trace(xfinal+xfinal.H)/2\n",
    "Ha = [SDP.get_variable(f'H_{j}').value for j in range(len(SDP.mutables)-1)]\n",
    "\n",
    "\n",
    "print(\"maximal output fidelity:\", np.real(fid))\n",
    "print(\"optimal output state maximizing fidelity with the target:\")\n",
    "matprint(np.real(np.round(channel(2*jlim,jlim,Ha, inputState),decimals=1)))\n",
    "\n"
   ]
  },
  {
   "cell_type": "markdown",
   "metadata": {},
   "source": [
    "The Example 3 follows a similar pattern. The input state is $\\frac1{\\sqrt6}\\left(\\ket{j=0,m=0}+\\ket{j=1,m=0}+2\\ket{j=\\frac32,m=\\frac32}\\right)$, and we are looking for a SU(2)-covariant channel transforming it to a state maximizing the fidelity with $\\ket{j=\\frac12,m=-\\frac12}$. The fidelity is numerically indistinguishable from $\\sqrt{\\frac{13}{15}}\\approx 0.93$"
   ]
  },
  {
   "cell_type": "code",
   "execution_count": 50,
   "metadata": {
    "scrolled": true
   },
   "outputs": [
    {
     "name": "stdout",
     "output_type": "stream",
     "text": [
      "maximal output fidelity: 0.9309649175363803\n",
      "optimal output state maximizing fidelity with the target:\n",
      " 0      0      0   0   0   0  -0   0   0   0  \n",
      " 0  0.133      0   0   0  -0   0  -0   0   0  \n",
      " 0      0  0.867  -0   0   0   0   0  -0   0  \n",
      " 0      0     -0   0   0   0   0   0  -0   0  \n",
      " 0      0      0   0   0   0   0   0   0  -0  \n",
      " 0     -0      0   0   0   0   0   0   0   0  \n",
      "-0      0      0   0   0   0   0   0   0   0  \n",
      " 0     -0      0   0   0   0   0   0   0   0  \n",
      " 0      0     -0  -0   0   0   0   0   0   0  \n",
      " 0      0      0   0  -0   0   0   0   0   0  \n"
     ]
    }
   ],
   "source": [
    "# Define upper limit for the representation of SU(2)\n",
    "jlim = 3\n",
    "\n",
    "# Define input and target state\n",
    "\n",
    "inputState=projector(1/np.sqrt(6)*(vecstate(0,0,jlim)+vecstate(2,0,jlim)+2*vecstate(3,3,jlim)))\n",
    "targetState = projector(vecstate(1,-1,jlim))#kb(rhoij(1,-1,1,-1),jlim)\n",
    "\n",
    "# SDP to determine the maximal fidelity\n",
    "SDP = getSDP(inputState,targetState,jlim)\n",
    "SDP.solve(solver=\"mosek\", verbosity=0)\n",
    "# Print the parameter matrices for the channel to achieve the maximum fidelity, the fidelity, and the channels output\n",
    "xfinal = SDP.get_variable(\"X\").value\n",
    "fid = np.trace(xfinal+xfinal.H)/2\n",
    "Ha = [SDP.get_variable(f'H_{j}').value for j in range(len(SDP.mutables)-1)]\n",
    "\n",
    "\n",
    "print(\"maximal output fidelity:\", np.real(fid))\n",
    "print(\"optimal output state maximizing fidelity with the target:\")\n",
    "matprint(np.real(np.round(channel(2*jlim,jlim,Ha, inputState),decimals=3)))\n"
   ]
  }
 ],
 "metadata": {
  "kernelspec": {
   "display_name": "rcov",
   "language": "python",
   "name": "rcov"
  },
  "language_info": {
   "codemirror_mode": {
    "name": "ipython",
    "version": 3
   },
   "file_extension": ".py",
   "mimetype": "text/x-python",
   "name": "python",
   "nbconvert_exporter": "python",
   "pygments_lexer": "ipython3",
   "version": "3.11.6"
  }
 },
 "nbformat": 4,
 "nbformat_minor": 4
}
